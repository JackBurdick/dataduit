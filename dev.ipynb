{
 "cells": [
  {
   "cell_type": "code",
   "execution_count": 1,
   "metadata": {},
   "outputs": [],
   "source": [
    "%load_ext autoreload\n",
    "%autoreload 2"
   ]
  },
  {
   "cell_type": "code",
   "execution_count": 3,
   "metadata": {},
   "outputs": [],
   "source": [
    "import dataduit as dd"
   ]
  },
  {
   "cell_type": "code",
   "execution_count": 37,
   "metadata": {},
   "outputs": [],
   "source": [
    "conf_dict = {\n",
    "    \"obtain\": {\n",
    "        \"primary_location\": \"online\", # memory, local, online\n",
    "        \"type\": \"tf\",  # pandas, numpy, tf, TODO:include popular websites\n",
    "        \"name\": \"mnist\",  # The name must be valid if using tf\n",
    "        \"store\": {  # if not specified, will only exist in memory?\n",
    "            \"location\": \"local\"  # [\"default\", s3 path]\n",
    "        },\n",
    "    },\n",
    "    \"create\": { # create_ds should call obtain()\n",
    "        # \"split_defaults\": False # this would use the default splits specified (by TF datasets)\n",
    "        \"split_percents\": [75, 15, 10],  # currently only support percents\n",
    "        \"split_names\": [\"train\", \"val\", \"test\"],\n",
    "    },\n",
    "    \"logging\": {\"log_stream_level\": \"INFO\"},\n",
    "}"
   ]
  },
  {
   "cell_type": "code",
   "execution_count": 38,
   "metadata": {},
   "outputs": [],
   "source": [
    "dd.info(conf_dict)"
   ]
  },
  {
   "cell_type": "code",
   "execution_count": 39,
   "metadata": {},
   "outputs": [],
   "source": [
    "out = dd.create_ds(conf_dict)"
   ]
  },
  {
   "cell_type": "code",
   "execution_count": 40,
   "metadata": {},
   "outputs": [
    {
     "data": {
      "text/plain": [
       "{'train': <PrefetchDataset shapes: ((28, 28, 1), ()), types: (tf.uint8, tf.int64)>,\n",
       " 'val': <PrefetchDataset shapes: ((28, 28, 1), ()), types: (tf.uint8, tf.int64)>,\n",
       " 'test': <PrefetchDataset shapes: ((28, 28, 1), ()), types: (tf.uint8, tf.int64)>}"
      ]
     },
     "execution_count": 40,
     "metadata": {},
     "output_type": "execute_result"
    }
   ],
   "source": [
    "out"
   ]
  },
  {
   "cell_type": "code",
   "execution_count": 41,
   "metadata": {},
   "outputs": [
    {
     "data": {
      "text/plain": [
       "{'obtain': {'primary_location': 'online',\n",
       "  'type': 'tf',\n",
       "  'name': 'mnist',\n",
       "  'store': {'location': 'local'}},\n",
       " 'create': {'split_percents': [75, 15, 10],\n",
       "  'split_names': ['train', 'val', 'test']},\n",
       " 'logging': {'log_stream_level': 'INFO'}}"
      ]
     },
     "execution_count": 41,
     "metadata": {},
     "output_type": "execute_result"
    }
   ],
   "source": [
    "conf_dict"
   ]
  },
  {
   "cell_type": "code",
   "execution_count": 5,
   "metadata": {},
   "outputs": [
    {
     "name": "stdout",
     "output_type": "stream",
     "text": [
      "yo\n"
     ]
    }
   ],
   "source": [
    "dd.read(read_config)"
   ]
  },
  {
   "cell_type": "code",
   "execution_count": null,
   "metadata": {},
   "outputs": [],
   "source": []
  }
 ],
 "metadata": {
  "kernelspec": {
   "display_name": "tf2",
   "language": "python",
   "name": "tf2"
  },
  "language_info": {
   "codemirror_mode": {
    "name": "ipython",
    "version": 3
   },
   "file_extension": ".py",
   "mimetype": "text/x-python",
   "name": "python",
   "nbconvert_exporter": "python",
   "pygments_lexer": "ipython3",
   "version": "3.6.7"
  }
 },
 "nbformat": 4,
 "nbformat_minor": 2
}
